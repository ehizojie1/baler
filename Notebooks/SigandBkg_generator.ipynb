{
 "cells": [
  {
   "cell_type": "markdown",
   "id": "5556222f-cfc2-46cc-8195-2f4e008bd5bf",
   "metadata": {
    "tags": []
   },
   "source": [
    "Use RapidSim to generate \n",
    "\n",
    "`Upsilon4S -> {B+ -> K+ K- K+} {B- -> K- K+ K-}`\n",
    "`B+ -> K+ K+ K-`\n",
    "\n",
    "For comb bkg use Upsilon sample and make random 3-body combinations of the 6 final state Kaons.\n",
    " \n",
    "Note the .config for Upsilon decay looks like\n",
    "\n",
    "geometry : LHCb\n",
    "paramsDecaying : M\n",
    "paramsStable : PX, PY, PZ\n",
    "@0\n",
    "\tname : X\n",
    "@1\n",
    "\tname : Bp_0\n",
    "@2\n",
    "\tname : Bm_0\n",
    "@3\n",
    "\tname : H1\n",
    "\tsmear : LHCbGeneric\n",
    "@4\n",
    "\tname : H2\n",
    "\tsmear : LHCbGeneric\n",
    "@5\n",
    "\tname : H4\n",
    "\tsmear : LHCbGeneric\n",
    "@6\n",
    "\tname : H5\n",
    "\tsmear : LHCbGeneric\n",
    "\t\n",
    "@7\n",
    "\tname : H3\n",
    "\tsmear : LHCbGeneric\n",
    "@8\n",
    "\tname : H6\n",
    "\tsmear : LHCbGeneric\n",
    "\t\n",
    "\n"
   ]
  },
  {
   "cell_type": "code",
   "execution_count": 52,
   "id": "e10c92a5-a26b-4794-b0e1-5d1e33767fa3",
   "metadata": {
    "tags": []
   },
   "outputs": [],
   "source": [
    "import numpy as np\n",
    "import uproot\n",
    "import pandas as pd\n",
    "import pickle\n",
    "from matplotlib import pyplot\n",
    "\n",
    "##Declare file paths\n",
    "bkg_file = \"/Users/user/BalerDev/combbkg_tree.root\"\n",
    "sig_file = \"/Users/user/BalerDev/B2KKK_tree_55_XYZ.root\"\n",
    "\n",
    "##Declare constants\n",
    "K_mass=0.494\n",
    "\n",
    "def create_branches(df):\n",
    "    \"\"\"\n",
    "    Function to create B mass from invariant mass of daughters\n",
    "    \"\"\"\n",
    "    df[\"H1_E\"]=np.sqrt(df[\"H1_PX\"]**2+df[\"H1_PY\"]**2+df[\"H1_PZ\"]**2+K_mass**2)\n",
    "    df[\"H2_E\"]=np.sqrt(df[\"H2_PX\"]**2+df[\"H2_PY\"]**2+df[\"H2_PZ\"]**2+K_mass**2)\n",
    "    df[\"H3_E\"]=np.sqrt(df[\"H3_PX\"]**2+df[\"H3_PY\"]**2+df[\"H3_PZ\"]**2+K_mass**2)\n",
    "    df[\"B_mass\"]=np.sqrt((df[\"H1_E\"]+df[\"H2_E\"]+df[\"H3_E\"])**2-(df[\"H1_PX\"]+df[\"H2_PX\"]+df[\"H3_PX\"])**2-(df[\"H1_PY\"]+df[\"H2_PY\"]+df[\"H3_PY\"])**2-(df[\"H1_PZ\"]+df[\"H2_PZ\"]+df[\"H3_PZ\"])**2)"
   ]
  },
  {
   "cell_type": "code",
   "execution_count": 59,
   "id": "c7d9596f-85d4-4f15-b915-13f05cf627c0",
   "metadata": {
    "tags": []
   },
   "outputs": [
    {
     "name": "stdout",
     "output_type": "stream",
     "text": [
      "0         4.627048\n",
      "1         6.368357\n",
      "2         4.749426\n",
      "3         5.962350\n",
      "4         4.708531\n",
      "            ...   \n",
      "299995    5.285750\n",
      "299996    5.293131\n",
      "299997    5.288133\n",
      "299998    5.277077\n",
      "299999    5.301530\n",
      "Name: B_mass, Length: 1000000, dtype: float64\n"
     ]
    },
    {
     "data": {
      "image/png": "[encoded data removed]",
      "text/plain": [
       "<Figure size 640x480 with 1 Axes>"
      ]
     },
     "metadata": {},
     "output_type": "display_data"
    }
   ],
   "source": [
    "#Open bkg file as pandas dfs and scramble 3 body combinations to make comb bkg\n",
    "tuple_bkg=uproot.open(bkg_file)[\"DecayTree\"]\n",
    "df_123=tuple_bkg.arrays([\"H1_PX\", \"H2_PX\", \"H3_PX\", \"H1_PY\", \"H2_PY\", \"H3_PY\", \"H1_PZ\", \"H2_PZ\", \"H3_PZ\"], library='pd')\n",
    "df_456=tuple_bkg.arrays([\"H4_PX\", \"H5_PX\", \"H6_PX\", \"H4_PY\", \"H5_PY\", \"H6_PY\", \"H4_PZ\", \"H5_PZ\", \"H6_PZ\"], library='pd')\n",
    "df_245=tuple_bkg.arrays([\"H2_PX\", \"H4_PX\", \"H5_PX\", \"H2_PY\", \"H4_PY\", \"H5_PY\", \"H2_PZ\", \"H4_PZ\", \"H5_PZ\"], library='pd')\n",
    "df_136=tuple_bkg.arrays([\"H1_PX\", \"H3_PX\", \"H6_PX\", \"H1_PY\", \"H3_PY\", \"H6_PY\", \"H1_PZ\", \"H3_PZ\", \"H6_PZ\"], library='pd')\n",
    "\n",
    "df_456.rename(columns={\"H4_PX\": \"H1_PX\", \"H5_PX\": \"H2_PX\", \"H6_PX\": \"H3_PX\", \"H4_PY\": \"H1_PY\", \"H5_PY\": \"H2_PY\", \"H6_PY\": \"H3_PY\", \"H4_PZ\": \"H1_PZ\", \"H5_PZ\": \"H2_PZ\", \"H6_PZ\": \"H3_PZ\"}, inplace=True)\n",
    "df_245.rename(columns={\"H2_PX\": \"H1_PX\", \"H4_PX\": \"H2_PX\", \"H5_PX\": \"H3_PX\", \"H2_PY\": \"H1_PY\", \"H4_PY\": \"H2_PY\", \"H5_PY\": \"H3_PY\", \"H2_PZ\": \"H1_PZ\", \"H4_PZ\": \"H2_PZ\", \"H5_PZ\": \"H3_PZ\"}, inplace=True)\n",
    "df_136.rename(columns={\"H3_PX\": \"H2_PX\", \"H6_PX\": \"H3_PX\", \"H3_PY\": \"H2_PY\", \"H6_PY\": \"H3_PY\", \"H3_PZ\": \"H2_PZ\", \"H6_PZ\": \"H3_PZ\"}, inplace=True)\n",
    "\n",
    "df_comb=pd.concat([df_123, df_456, df_245, df_136])\n",
    "\n",
    "\n",
    "#Open sig file as pandas df\n",
    "tuple_sig=uproot.open(sig_file)[\"DecayTree\"]\n",
    "df_sig=tuple_sig.arrays(tuple_sig.keys(), library='pd')\n",
    "df_sig=df_sig[[\"H1_PX\", \"H2_PX\", \"H3_PX\", \"H1_PY\", \"H2_PY\", \"H3_PY\", \"H1_PZ\", \"H2_PZ\", \"H3_PZ\"]]\n",
    "\n",
    "\n",
    "tot_events=1000000\n",
    "sigfrac=0.3\n",
    "\n",
    "df=pd.concat([df_comb[:int(tot_events*(1-sigfrac))], df_sig[:int(tot_events*(sigfrac))]])\n",
    "create_branches(df)\n",
    "\n",
    "data=df[\"B_mass\"]\n",
    "print(data)\n",
    "bins = np.linspace(4.8, 7, 100)\n",
    "\n",
    "pyplot.hist(data, bins, alpha=0.5, label='data')\n",
    "pyplot.legend(loc='upper right')\n",
    "pyplot.show()\n"
   ]
  },
  {
   "cell_type": "code",
   "execution_count": null,
   "id": "c7cf79d9-8c95-49f5-ba1c-93c9ee6703f6",
   "metadata": {
    "tags": []
   },
   "outputs": [],
   "source": []
  },
  {
   "cell_type": "code",
   "execution_count": null,
   "id": "1b05bd7c-fba2-4ed3-8339-d29f3348c4e1",
   "metadata": {
    "tags": []
   },
   "outputs": [],
   "source": []
  },
  {
   "cell_type": "code",
   "execution_count": null,
   "id": "77edf5af-cf34-4a42-be90-0cf66b7bc838",
   "metadata": {
    "tags": []
   },
   "outputs": [],
   "source": []
  },
  {
   "cell_type": "code",
   "execution_count": null,
   "id": "a0d2a815",
   "metadata": {
    "tags": []
   },
   "outputs": [],
   "source": [
    "\n"
   ]
  },
  {
   "cell_type": "code",
   "execution_count": null,
   "id": "294dea88",
   "metadata": {
    "tags": []
   },
   "outputs": [],
   "source": []
  },
  {
   "cell_type": "code",
   "execution_count": null,
   "id": "dc538e6f",
   "metadata": {
    "tags": []
   },
   "outputs": [],
   "source": [
    "\n"
   ]
  },
  {
   "cell_type": "code",
   "execution_count": null,
   "id": "3155f852",
   "metadata": {
    "tags": []
   },
   "outputs": [],
   "source": [
    "\n",
    "\n"
   ]
  },
  {
   "cell_type": "code",
   "execution_count": null,
   "id": "875f7fad",
   "metadata": {},
   "outputs": [],
   "source": []
  },
  {
   "cell_type": "code",
   "execution_count": null,
   "id": "2d92f3b7",
   "metadata": {},
   "outputs": [],
   "source": []
  },
  {
   "cell_type": "code",
   "execution_count": null,
   "id": "f1ed9288",
   "metadata": {},
   "outputs": [],
   "source": []
  },
  {
   "cell_type": "code",
   "execution_count": null,
   "id": "3411c8f5",
   "metadata": {},
   "outputs": [],
   "source": []
  },
  {
   "cell_type": "code",
   "execution_count": null,
   "id": "3324bc20",
   "metadata": {},
   "outputs": [],
   "source": []
  },
  {
   "cell_type": "code",
   "execution_count": null,
   "id": "c0580fdc",
   "metadata": {},
   "outputs": [],
   "source": []
  },
  {
   "cell_type": "code",
   "execution_count": null,
   "id": "6ed7e9d5",
   "metadata": {},
   "outputs": [],
   "source": []
  },
  {
   "cell_type": "code",
   "execution_count": null,
   "id": "d724eab9",
   "metadata": {},
   "outputs": [],
   "source": []
  },
  {
   "cell_type": "code",
   "execution_count": null,
   "id": "c285cdb0",
   "metadata": {},
   "outputs": [],
   "source": []
  },
  {
   "cell_type": "code",
   "execution_count": null,
   "id": "946100bc",
   "metadata": {},
   "outputs": [],
   "source": [
    "\n"
   ]
  },
  {
   "cell_type": "code",
   "execution_count": null,
   "id": "c921bac6",
   "metadata": {},
   "outputs": [],
   "source": []
  },
  {
   "cell_type": "code",
   "execution_count": null,
   "id": "5851e23c",
   "metadata": {},
   "outputs": [],
   "source": []
  }
 ],
 "metadata": {
  "kernelspec": {
   "display_name": "Python 3 (ipykernel)",
   "language": "python",
   "name": "python3"
  },
  "language_info": {
   "codemirror_mode": {
    "name": "ipython",
    "version": 3
   },
   "file_extension": ".py",
   "mimetype": "text/x-python",
   "name": "python",
   "nbconvert_exporter": "python",
   "pygments_lexer": "ipython3",
   "version": "3.10.10"
  }
 },
 "nbformat": 4,
 "nbformat_minor": 5
}
