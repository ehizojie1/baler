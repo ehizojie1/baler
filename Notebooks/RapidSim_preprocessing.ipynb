{
 "cells": [
  {
   "cell_type": "code",
   "execution_count": 20,
   "id": "b278431f",
   "metadata": {
    "tags": []
   },
   "outputs": [],
   "source": [
    "import numpy as np\n",
    "import uproot\n",
    "import pandas as pd\n",
    "import pickle\n",
    "from matplotlib import pyplot\n",
    "\n",
    "##Declare file paths\n",
    "original_file=\"/Users/user/BalerDev/B2KKK_tree_55_XYZ.root\"\n",
    "file_root=\"/Users/user/BalerDev/baler/\"\n",
    "\n",
    "post_baler_all=\"projects/lhcb/decompressed_output/decompressed.root\"\n",
    "\n",
    "##Declare constants\n",
    "K_mass=0.494\n",
    "\n",
    "def create_branches(df):\n",
    "    \"\"\"\n",
    "    Function to create B mass from invariant mass of daughters\n",
    "    \"\"\"\n",
    "    df[\"H1_E\"]=np.sqrt(df[\"H1_PX\"]**2+df[\"H1_PY\"]**2+df[\"H1_PZ\"]**2+K_mass**2)\n",
    "    df[\"H2_E\"]=np.sqrt(df[\"H2_PX\"]**2+df[\"H2_PY\"]**2+df[\"H2_PZ\"]**2+K_mass**2)\n",
    "    df[\"H3_E\"]=np.sqrt(df[\"H3_PX\"]**2+df[\"H3_PY\"]**2+df[\"H3_PZ\"]**2+K_mass**2)\n",
    "    df[\"B_mass\"]=np.sqrt((df[\"H1_E\"]+df[\"H2_E\"]+df[\"H3_E\"])**2-(df[\"H1_PX\"]+df[\"H2_PX\"]+df[\"H3_PX\"])**2-(df[\"H1_PY\"]+df[\"H2_PY\"]+df[\"H3_PY\"])**2-(df[\"H1_PZ\"]+df[\"H2_PZ\"]+df[\"H3_PZ\"])**2)\n",
    "\n",
    "def fine_grained_check(pre, post, var):\n",
    "    \"\"\"\n",
    "    Check pre and post Baler agreement for a variable\n",
    "    \"\"\"\n",
    "    data_pre = pre[var]\n",
    "    data_post=post[var]\n",
    "    \n",
    "    #var_min=min(data_pre+data_post)\n",
    "    #var_max=max(data_pre+data_post)\n",
    "    var_min=-1000\n",
    "    var_max=1000\n",
    "    print(\"var_min \", var_min)\n",
    "    print(\"var_max \", var_max)\n",
    "\n",
    "    bins = np.linspace(var_min, var_max, 100)\n",
    "    pyplot.hist(data_pre, bins, alpha=0.5, label='pre baler')\n",
    "    pyplot.hist(data_post, bins, alpha=0.5, label='post baler')\n",
    "    pyplot.legend(loc='upper right')\n",
    "    pyplot.show()"
   ]
  },
  {
   "cell_type": "code",
   "execution_count": 21,
   "id": "c7d9596f-85d4-4f15-b915-13f05cf627c0",
   "metadata": {
    "tags": []
   },
   "outputs": [],
   "source": [
    "###Pre-Baler###\n",
    "#Open pre-Baler data as pandas df\n",
    "tuple_pre=uproot.open(original_file)[\"DecayTree\"]\n",
    "df_pre=tuple_pre.arrays([\"nEvent\", \"H1_PX\", \"H2_PX\", \"H3_PX\", \"H1_PY\", \"H2_PY\", \"H3_PY\", \"H1_PZ\", \"H2_PZ\", \"H3_PZ\"], library='pd')\n",
    "\n",
    "#Export as pkl file for input to Baler\n",
    "df_pre.to_pickle(file_root + \"data/lhcb/B2KKK_all_withPID.pkl\")"
   ]
  },
  {
   "cell_type": "code",
   "execution_count": 22,
   "id": "c7cf79d9-8c95-49f5-ba1c-93c9ee6703f6",
   "metadata": {
    "tags": []
   },
   "outputs": [],
   "source": [
    "#import os\n",
    "#os.system(\"poetry run python baler --project=lhcb --mode=train\")\n",
    "#os.system(\"poetry run python baler --project=lhcb --mode=compress\")\n",
    "#os.system(\"poetry run python baler --project=lhcb --mode=decompress\")\n",
    "#os.system(\"poetry run python baler --project=lhcb --mode=info\")\n",
    "#os.system(\"poetry run python baler --project=lhcb --mode=plot\")"
   ]
  },
  {
   "cell_type": "code",
   "execution_count": 23,
   "id": "1b05bd7c-fba2-4ed3-8339-d29f3348c4e1",
   "metadata": {
    "tags": []
   },
   "outputs": [
    {
     "name": "stdout",
     "output_type": "stream",
     "text": [
      "0         5.295070\n",
      "1         5.287902\n",
      "2         5.304015\n",
      "3         5.296330\n",
      "4         5.268098\n",
      "            ...   \n",
      "999995    5.270771\n",
      "999996    5.292277\n",
      "999997    5.277723\n",
      "999998    5.250160\n",
      "999999    5.279017\n",
      "Name: B_mass, Length: 1000000, dtype: float64\n"
     ]
    }
   ],
   "source": [
    "#Create B mass branch\n",
    "create_branches(df_pre)\n",
    "print(df_pre[\"B_mass\"])\n",
    "\n",
    "\n",
    "###Post-Baler###\n",
    "#Open post-Baler data as pandas df\n",
    "tuple_post=uproot.open(file_root + post_baler_all)[\"Events\"]\n",
    "df_post=tuple_post.arrays(tuple_post.keys(), library='pd')\n",
    "\n",
    "#Create B mass branch\n",
    "create_branches(df_post)"
   ]
  },
  {
   "cell_type": "code",
   "execution_count": null,
   "id": "77edf5af-cf34-4a42-be90-0cf66b7bc838",
   "metadata": {
    "tags": []
   },
   "outputs": [],
   "source": []
  },
  {
   "cell_type": "code",
   "execution_count": 25,
   "id": "a0d2a815",
   "metadata": {
    "tags": []
   },
   "outputs": [
    {
     "data": {
      "image/png": "[encoded data removed]",
      "text/plain": [
       "<Figure size 640x480 with 1 Axes>"
      ]
     },
     "metadata": {},
     "output_type": "display_data"
    }
   ],
   "source": [
    "with open(file_root + \"data/lhcb/B2KKK_all_withPID.pkl\", 'rb') as handle:\n",
    "    from_pkl = pickle.load(handle)\n",
    "  \n",
    "sanity_check = pd.DataFrame(from_pkl) \n",
    "create_branches(sanity_check)\n",
    "\n",
    "\n",
    "sanity_check_B = sanity_check[\"B_mass\"]\n",
    "data_pre = df_pre[\"B_mass\"]\n",
    "data_post = df_post[\"B_mass\"]\n",
    "\n",
    "\n",
    "bins = np.linspace(3, 8, 500)\n",
    "\n",
    "pyplot.hist(data_pre, bins, alpha=0.5, label='pre baler')\n",
    "pyplot.hist(data_post, bins, alpha=0.5, label='post baler')\n",
    "#pyplot.hist(sanity_check_B, bins, alpha=0.5, label='from pkl')\n",
    "\n",
    "pyplot.legend(loc='upper right')\n",
    "pyplot.show()\n"
   ]
  },
  {
   "cell_type": "code",
   "execution_count": null,
   "id": "294dea88",
   "metadata": {
    "tags": []
   },
   "outputs": [],
   "source": []
  },
  {
   "cell_type": "code",
   "execution_count": null,
   "id": "dc538e6f",
   "metadata": {
    "tags": []
   },
   "outputs": [],
   "source": [
    "\n"
   ]
  },
  {
   "cell_type": "code",
   "execution_count": null,
   "id": "3155f852",
   "metadata": {
    "tags": []
   },
   "outputs": [],
   "source": [
    "\n",
    "\n"
   ]
  },
  {
   "cell_type": "code",
   "execution_count": null,
   "id": "875f7fad",
   "metadata": {},
   "outputs": [],
   "source": []
  },
  {
   "cell_type": "code",
   "execution_count": null,
   "id": "2d92f3b7",
   "metadata": {},
   "outputs": [],
   "source": []
  },
  {
   "cell_type": "code",
   "execution_count": null,
   "id": "f1ed9288",
   "metadata": {},
   "outputs": [],
   "source": []
  },
  {
   "cell_type": "code",
   "execution_count": null,
   "id": "3411c8f5",
   "metadata": {},
   "outputs": [],
   "source": []
  },
  {
   "cell_type": "code",
   "execution_count": null,
   "id": "3324bc20",
   "metadata": {},
   "outputs": [],
   "source": []
  },
  {
   "cell_type": "code",
   "execution_count": null,
   "id": "c0580fdc",
   "metadata": {},
   "outputs": [],
   "source": []
  },
  {
   "cell_type": "code",
   "execution_count": null,
   "id": "6ed7e9d5",
   "metadata": {},
   "outputs": [],
   "source": []
  },
  {
   "cell_type": "code",
   "execution_count": null,
   "id": "d724eab9",
   "metadata": {},
   "outputs": [],
   "source": []
  },
  {
   "cell_type": "code",
   "execution_count": null,
   "id": "c285cdb0",
   "metadata": {},
   "outputs": [],
   "source": []
  },
  {
   "cell_type": "code",
   "execution_count": null,
   "id": "946100bc",
   "metadata": {},
   "outputs": [],
   "source": [
    "\n"
   ]
  },
  {
   "cell_type": "code",
   "execution_count": null,
   "id": "c921bac6",
   "metadata": {},
   "outputs": [],
   "source": []
  },
  {
   "cell_type": "code",
   "execution_count": null,
   "id": "5851e23c",
   "metadata": {},
   "outputs": [],
   "source": []
  }
 ],
 "metadata": {
  "kernelspec": {
   "display_name": "Python 3 (ipykernel)",
   "language": "python",
   "name": "python3"
  },
  "language_info": {
   "codemirror_mode": {
    "name": "ipython",
    "version": 3
   },
   "file_extension": ".py",
   "mimetype": "text/x-python",
   "name": "python",
   "nbconvert_exporter": "python",
   "pygments_lexer": "ipython3",
   "version": "3.10.10"
  }
 },
 "nbformat": 4,
 "nbformat_minor": 5
}
